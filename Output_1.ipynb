{
 "cells": [
  {
   "cell_type": "code",
   "execution_count": 3,
   "metadata": {},
   "outputs": [],
   "source": [
    "import numpy as np\n",
    "from numpy import *"
   ]
  },
  {
   "cell_type": "code",
   "execution_count": 5,
   "metadata": {},
   "outputs": [
    {
     "data": {
      "text/plain": [
       "array([[0.94857072, 0.66933497, 0.48856864, 0.05094151],\n",
       "       [0.3309264 , 0.85574117, 0.81229961, 0.8440868 ],\n",
       "       [0.13413999, 0.35610868, 0.91986933, 0.48585774],\n",
       "       [0.52792972, 0.77848861, 0.16114887, 0.55029043]])"
      ]
     },
     "execution_count": 5,
     "metadata": {},
     "output_type": "execute_result"
    }
   ],
   "source": [
    "random.rand(4,4)"
   ]
  },
  {
   "cell_type": "code",
   "execution_count": 6,
   "metadata": {},
   "outputs": [],
   "source": [
    "randMat = mat(random.rand(4,4))"
   ]
  },
  {
   "cell_type": "code",
   "execution_count": 7,
   "metadata": {},
   "outputs": [
    {
     "data": {
      "text/plain": [
       "matrix([[-216.04509089,  151.88054666,   32.3337802 ,   93.37972685],\n",
       "        [ -69.13342881,   49.94054688,    9.37791076,   30.16353423],\n",
       "        [  48.32892683,  -33.34992792,   -6.1513242 ,  -21.64980458],\n",
       "        [ 162.27971403, -115.71753295,  -23.88098997,  -68.9836791 ]])"
      ]
     },
     "execution_count": 7,
     "metadata": {},
     "output_type": "execute_result"
    }
   ],
   "source": [
    "randMat.I"
   ]
  },
  {
   "cell_type": "code",
   "execution_count": 8,
   "metadata": {},
   "outputs": [],
   "source": [
    "invRandMat = randMat.I"
   ]
  },
  {
   "cell_type": "code",
   "execution_count": 9,
   "metadata": {},
   "outputs": [
    {
     "data": {
      "text/plain": [
       "matrix([[ 1.00000000e+00,  0.00000000e+00,  1.77635684e-15,\n",
       "          7.10542736e-15],\n",
       "        [-7.10542736e-15,  1.00000000e+00,  8.88178420e-16,\n",
       "          3.55271368e-15],\n",
       "        [ 1.42108547e-14,  0.00000000e+00,  1.00000000e+00,\n",
       "         -7.10542736e-15],\n",
       "        [ 0.00000000e+00,  0.00000000e+00,  3.55271368e-15,\n",
       "          1.00000000e+00]])"
      ]
     },
     "execution_count": 9,
     "metadata": {},
     "output_type": "execute_result"
    }
   ],
   "source": [
    "randMat*invRandMat"
   ]
  },
  {
   "cell_type": "code",
   "execution_count": null,
   "metadata": {},
   "outputs": [],
   "source": []
  }
 ],
 "metadata": {
  "kernelspec": {
   "display_name": "Python 3",
   "language": "python",
   "name": "python3"
  },
  "language_info": {
   "codemirror_mode": {
    "name": "ipython",
    "version": 3
   },
   "file_extension": ".py",
   "mimetype": "text/x-python",
   "name": "python",
   "nbconvert_exporter": "python",
   "pygments_lexer": "ipython3",
   "version": "3.7.3"
  }
 },
 "nbformat": 4,
 "nbformat_minor": 2
}
