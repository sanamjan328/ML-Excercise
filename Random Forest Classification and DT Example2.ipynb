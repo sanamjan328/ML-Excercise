{
 "cells": [
  {
   "cell_type": "code",
   "execution_count": 1,
   "metadata": {},
   "outputs": [],
   "source": [
    "import numpy as np\n",
    "import seaborn as sns\n",
    "import matplotlib.pyplot as plt\n",
    "from matplotlib.ticker import NullFormatter\n",
    "import pandas as pd\n",
    "import matplotlib.ticker as ticker\n",
    "from sklearn import preprocessing\n",
    "%matplotlib inline"
   ]
  },
  {
   "cell_type": "code",
   "execution_count": 2,
   "metadata": {},
   "outputs": [
    {
     "data": {
      "text/plain": [
       "['-disbtribution-worldwide-2020-03-22.csv',\n",
       " 'hypothyroid.csv',\n",
       " 'dataset.xlsx',\n",
       " '-disbtribution-worldwide-2020-03-20.csv',\n",
       " 'Mall_Customers.csv',\n",
       " '-Investment-Tracker-2019-Fall-FINAL.csv',\n",
       " '.DS_Store',\n",
       " 'nesarc_pds.csv',\n",
       " '-disbtribution-worldwide-2020-03-31.csv',\n",
       " 'TÜRKİYE son veriler.xlsx',\n",
       " 'Sample - Superstore.xls',\n",
       " 'addhealth_pds.csv',\n",
       " 'Classified Data',\n",
       " 'College_Data',\n",
       " 'winequality-red.csv',\n",
       " 'FuelConsumptionCo2.csv',\n",
       " 'adult_income_data.csv',\n",
       " 'COVID-19-geographic-disbtribution-worldwide-2020-03-31.xlsx',\n",
       " 'tree_addhealth.csv',\n",
       " 'China-Global-Investment-Tracker-2019-Fall-FINAL.xlsx',\n",
       " 'USA_Housing.csv',\n",
       " 'Readme.md',\n",
       " 'titanic_test.csv',\n",
       " 'marscrater_pds.csv',\n",
       " 'covid19-global-forecasting-week-1.zip',\n",
       " 'csvfile.csv',\n",
       " 'slump_test.csv',\n",
       " 'covid19-global-forecasting-week-1',\n",
       " 'ool_pds.csv',\n",
       " 'china_gdp.csv',\n",
       " 'KNN_Project_Data',\n",
       " 'Height_Weight.xlsx',\n",
       " 'dataset.csv',\n",
       " 'gapminder.csv',\n",
       " 'loan_data.csv',\n",
       " 'Concrete_Data.xls',\n",
       " 'kyphosis.csv',\n",
       " 'titanic_train.csv',\n",
       " 'wine.data.csv']"
      ]
     },
     "execution_count": 2,
     "metadata": {},
     "output_type": "execute_result"
    }
   ],
   "source": [
    "from pathlib import Path\n",
    "data_dir = Path('/Users/sanamjankurban/Documents/Jupyter_projects/Data Analysis Examples/DataBases')\n",
    "\n",
    "import os\n",
    "os.listdir(data_dir)"
   ]
  },
  {
   "cell_type": "code",
   "execution_count": null,
   "metadata": {},
   "outputs": [],
   "source": []
  }
 ],
 "metadata": {
  "kernelspec": {
   "display_name": "Python 3",
   "language": "python",
   "name": "python3"
  },
  "language_info": {
   "codemirror_mode": {
    "name": "ipython",
    "version": 3
   },
   "file_extension": ".py",
   "mimetype": "text/x-python",
   "name": "python",
   "nbconvert_exporter": "python",
   "pygments_lexer": "ipython3",
   "version": "3.7.3"
  }
 },
 "nbformat": 4,
 "nbformat_minor": 2
}
