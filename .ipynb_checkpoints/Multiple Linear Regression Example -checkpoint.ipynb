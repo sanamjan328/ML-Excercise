{
 "cells": [
  {
   "cell_type": "code",
   "execution_count": 1,
   "metadata": {
    "collapsed": true
   },
   "outputs": [],
   "source": [
    "import matplotlib.pyplot as plt\n",
    "import pandas as pd\n",
    "import pylab as pl\n",
    "import numpy as np\n",
    "%matplotlib inline"
   ]
  },
  {
   "cell_type": "markdown",
   "metadata": {},
   "source": [
    "## Read Data Source"
   ]
  },
  {
   "cell_type": "code",
   "execution_count": 2,
   "metadata": {},
   "outputs": [
    {
     "data": {
      "text/plain": [
       "['-disbtribution-worldwide-2020-03-22.csv',\n",
       " 'dataset.xlsx',\n",
       " '-disbtribution-worldwide-2020-03-20.csv',\n",
       " '-Investment-Tracker-2019-Fall-FINAL.csv',\n",
       " '.DS_Store',\n",
       " '-disbtribution-worldwide-2020-03-31.csv',\n",
       " 'TÜRKİYE son veriler.xlsx',\n",
       " 'FuelConsumptionCo2.csv',\n",
       " 'COVID-19-geographic-disbtribution-worldwide-2020-03-31.xlsx',\n",
       " 'China-Global-Investment-Tracker-2019-Fall-FINAL.xlsx',\n",
       " 'covid19-global-forecasting-week-1.zip',\n",
       " 'csvfile.csv',\n",
       " 'covid19-global-forecasting-week-1',\n",
       " 'dataset.csv']"
      ]
     },
     "execution_count": 2,
     "metadata": {},
     "output_type": "execute_result"
    }
   ],
   "source": [
    "from pathlib import Path\n",
    "data_dir = Path('/Users/sanamjankurban/Documents/Jupyter_projects/Data Analysis Examples/DataBases')\n",
    "\n",
    "import os\n",
    "os.listdir(data_dir)"
   ]
  },
  {
   "cell_type": "code",
   "execution_count": 3,
   "metadata": {},
   "outputs": [
    {
     "data": {
      "text/html": [
       "<div>\n",
       "<style scoped>\n",
       "    .dataframe tbody tr th:only-of-type {\n",
       "        vertical-align: middle;\n",
       "    }\n",
       "\n",
       "    .dataframe tbody tr th {\n",
       "        vertical-align: top;\n",
       "    }\n",
       "\n",
       "    .dataframe thead th {\n",
       "        text-align: right;\n",
       "    }\n",
       "</style>\n",
       "<table border=\"1\" class=\"dataframe\">\n",
       "  <thead>\n",
       "    <tr style=\"text-align: right;\">\n",
       "      <th></th>\n",
       "      <th>MODELYEAR</th>\n",
       "      <th>MAKE</th>\n",
       "      <th>MODEL</th>\n",
       "      <th>VEHICLECLASS</th>\n",
       "      <th>ENGINESIZE</th>\n",
       "      <th>CYLINDERS</th>\n",
       "      <th>TRANSMISSION</th>\n",
       "      <th>FUELTYPE</th>\n",
       "      <th>FUELCONSUMPTION_CITY</th>\n",
       "      <th>FUELCONSUMPTION_HWY</th>\n",
       "      <th>FUELCONSUMPTION_COMB</th>\n",
       "      <th>FUELCONSUMPTION_COMB_MPG</th>\n",
       "      <th>CO2EMISSIONS</th>\n",
       "    </tr>\n",
       "  </thead>\n",
       "  <tbody>\n",
       "    <tr>\n",
       "      <th>0</th>\n",
       "      <td>2014</td>\n",
       "      <td>ACURA</td>\n",
       "      <td>ILX</td>\n",
       "      <td>COMPACT</td>\n",
       "      <td>2.0</td>\n",
       "      <td>4</td>\n",
       "      <td>AS5</td>\n",
       "      <td>Z</td>\n",
       "      <td>9.9</td>\n",
       "      <td>6.7</td>\n",
       "      <td>8.5</td>\n",
       "      <td>33</td>\n",
       "      <td>196</td>\n",
       "    </tr>\n",
       "    <tr>\n",
       "      <th>1</th>\n",
       "      <td>2014</td>\n",
       "      <td>ACURA</td>\n",
       "      <td>ILX</td>\n",
       "      <td>COMPACT</td>\n",
       "      <td>2.4</td>\n",
       "      <td>4</td>\n",
       "      <td>M6</td>\n",
       "      <td>Z</td>\n",
       "      <td>11.2</td>\n",
       "      <td>7.7</td>\n",
       "      <td>9.6</td>\n",
       "      <td>29</td>\n",
       "      <td>221</td>\n",
       "    </tr>\n",
       "    <tr>\n",
       "      <th>2</th>\n",
       "      <td>2014</td>\n",
       "      <td>ACURA</td>\n",
       "      <td>ILX HYBRID</td>\n",
       "      <td>COMPACT</td>\n",
       "      <td>1.5</td>\n",
       "      <td>4</td>\n",
       "      <td>AV7</td>\n",
       "      <td>Z</td>\n",
       "      <td>6.0</td>\n",
       "      <td>5.8</td>\n",
       "      <td>5.9</td>\n",
       "      <td>48</td>\n",
       "      <td>136</td>\n",
       "    </tr>\n",
       "    <tr>\n",
       "      <th>3</th>\n",
       "      <td>2014</td>\n",
       "      <td>ACURA</td>\n",
       "      <td>MDX 4WD</td>\n",
       "      <td>SUV - SMALL</td>\n",
       "      <td>3.5</td>\n",
       "      <td>6</td>\n",
       "      <td>AS6</td>\n",
       "      <td>Z</td>\n",
       "      <td>12.7</td>\n",
       "      <td>9.1</td>\n",
       "      <td>11.1</td>\n",
       "      <td>25</td>\n",
       "      <td>255</td>\n",
       "    </tr>\n",
       "    <tr>\n",
       "      <th>4</th>\n",
       "      <td>2014</td>\n",
       "      <td>ACURA</td>\n",
       "      <td>RDX AWD</td>\n",
       "      <td>SUV - SMALL</td>\n",
       "      <td>3.5</td>\n",
       "      <td>6</td>\n",
       "      <td>AS6</td>\n",
       "      <td>Z</td>\n",
       "      <td>12.1</td>\n",
       "      <td>8.7</td>\n",
       "      <td>10.6</td>\n",
       "      <td>27</td>\n",
       "      <td>244</td>\n",
       "    </tr>\n",
       "  </tbody>\n",
       "</table>\n",
       "</div>"
      ],
      "text/plain": [
       "   MODELYEAR   MAKE       MODEL VEHICLECLASS  ENGINESIZE  CYLINDERS  \\\n",
       "0       2014  ACURA         ILX      COMPACT         2.0          4   \n",
       "1       2014  ACURA         ILX      COMPACT         2.4          4   \n",
       "2       2014  ACURA  ILX HYBRID      COMPACT         1.5          4   \n",
       "3       2014  ACURA     MDX 4WD  SUV - SMALL         3.5          6   \n",
       "4       2014  ACURA     RDX AWD  SUV - SMALL         3.5          6   \n",
       "\n",
       "  TRANSMISSION FUELTYPE  FUELCONSUMPTION_CITY  FUELCONSUMPTION_HWY  \\\n",
       "0          AS5        Z                   9.9                  6.7   \n",
       "1           M6        Z                  11.2                  7.7   \n",
       "2          AV7        Z                   6.0                  5.8   \n",
       "3          AS6        Z                  12.7                  9.1   \n",
       "4          AS6        Z                  12.1                  8.7   \n",
       "\n",
       "   FUELCONSUMPTION_COMB  FUELCONSUMPTION_COMB_MPG  CO2EMISSIONS  \n",
       "0                   8.5                        33           196  \n",
       "1                   9.6                        29           221  \n",
       "2                   5.9                        48           136  \n",
       "3                  11.1                        25           255  \n",
       "4                  10.6                        27           244  "
      ]
     },
     "execution_count": 3,
     "metadata": {},
     "output_type": "execute_result"
    }
   ],
   "source": [
    "df = pd.read_csv(data_dir/\"FuelConsumptionCo2.csv\")\n",
    "\n",
    "# look at database\n",
    "df.head()"
   ]
  },
  {
   "cell_type": "code",
   "execution_count": 8,
   "metadata": {},
   "outputs": [
    {
     "data": {
      "text/html": [
       "<div>\n",
       "<style scoped>\n",
       "    .dataframe tbody tr th:only-of-type {\n",
       "        vertical-align: middle;\n",
       "    }\n",
       "\n",
       "    .dataframe tbody tr th {\n",
       "        vertical-align: top;\n",
       "    }\n",
       "\n",
       "    .dataframe thead th {\n",
       "        text-align: right;\n",
       "    }\n",
       "</style>\n",
       "<table border=\"1\" class=\"dataframe\">\n",
       "  <thead>\n",
       "    <tr style=\"text-align: right;\">\n",
       "      <th></th>\n",
       "      <th>ENGINESIZE</th>\n",
       "      <th>CYLINDERS</th>\n",
       "      <th>FUELCONSUMPTION_CITY</th>\n",
       "      <th>FUELCONSUMPTION_HWY</th>\n",
       "      <th>FUELCONSUMPTION_COMB</th>\n",
       "      <th>CO2EMISSIONS</th>\n",
       "    </tr>\n",
       "  </thead>\n",
       "  <tbody>\n",
       "    <tr>\n",
       "      <th>0</th>\n",
       "      <td>2.0</td>\n",
       "      <td>4</td>\n",
       "      <td>9.9</td>\n",
       "      <td>6.7</td>\n",
       "      <td>8.5</td>\n",
       "      <td>196</td>\n",
       "    </tr>\n",
       "    <tr>\n",
       "      <th>1</th>\n",
       "      <td>2.4</td>\n",
       "      <td>4</td>\n",
       "      <td>11.2</td>\n",
       "      <td>7.7</td>\n",
       "      <td>9.6</td>\n",
       "      <td>221</td>\n",
       "    </tr>\n",
       "    <tr>\n",
       "      <th>2</th>\n",
       "      <td>1.5</td>\n",
       "      <td>4</td>\n",
       "      <td>6.0</td>\n",
       "      <td>5.8</td>\n",
       "      <td>5.9</td>\n",
       "      <td>136</td>\n",
       "    </tr>\n",
       "    <tr>\n",
       "      <th>3</th>\n",
       "      <td>3.5</td>\n",
       "      <td>6</td>\n",
       "      <td>12.7</td>\n",
       "      <td>9.1</td>\n",
       "      <td>11.1</td>\n",
       "      <td>255</td>\n",
       "    </tr>\n",
       "    <tr>\n",
       "      <th>4</th>\n",
       "      <td>3.5</td>\n",
       "      <td>6</td>\n",
       "      <td>12.1</td>\n",
       "      <td>8.7</td>\n",
       "      <td>10.6</td>\n",
       "      <td>244</td>\n",
       "    </tr>\n",
       "    <tr>\n",
       "      <th>5</th>\n",
       "      <td>3.5</td>\n",
       "      <td>6</td>\n",
       "      <td>11.9</td>\n",
       "      <td>7.7</td>\n",
       "      <td>10.0</td>\n",
       "      <td>230</td>\n",
       "    </tr>\n",
       "    <tr>\n",
       "      <th>6</th>\n",
       "      <td>3.5</td>\n",
       "      <td>6</td>\n",
       "      <td>11.8</td>\n",
       "      <td>8.1</td>\n",
       "      <td>10.1</td>\n",
       "      <td>232</td>\n",
       "    </tr>\n",
       "    <tr>\n",
       "      <th>7</th>\n",
       "      <td>3.7</td>\n",
       "      <td>6</td>\n",
       "      <td>12.8</td>\n",
       "      <td>9.0</td>\n",
       "      <td>11.1</td>\n",
       "      <td>255</td>\n",
       "    </tr>\n",
       "    <tr>\n",
       "      <th>8</th>\n",
       "      <td>3.7</td>\n",
       "      <td>6</td>\n",
       "      <td>13.4</td>\n",
       "      <td>9.5</td>\n",
       "      <td>11.6</td>\n",
       "      <td>267</td>\n",
       "    </tr>\n",
       "  </tbody>\n",
       "</table>\n",
       "</div>"
      ],
      "text/plain": [
       "   ENGINESIZE  CYLINDERS  FUELCONSUMPTION_CITY  FUELCONSUMPTION_HWY  \\\n",
       "0         2.0          4                   9.9                  6.7   \n",
       "1         2.4          4                  11.2                  7.7   \n",
       "2         1.5          4                   6.0                  5.8   \n",
       "3         3.5          6                  12.7                  9.1   \n",
       "4         3.5          6                  12.1                  8.7   \n",
       "5         3.5          6                  11.9                  7.7   \n",
       "6         3.5          6                  11.8                  8.1   \n",
       "7         3.7          6                  12.8                  9.0   \n",
       "8         3.7          6                  13.4                  9.5   \n",
       "\n",
       "   FUELCONSUMPTION_COMB  CO2EMISSIONS  \n",
       "0                   8.5           196  \n",
       "1                   9.6           221  \n",
       "2                   5.9           136  \n",
       "3                  11.1           255  \n",
       "4                  10.6           244  \n",
       "5                  10.0           230  \n",
       "6                  10.1           232  \n",
       "7                  11.1           255  \n",
       "8                  11.6           267  "
      ]
     },
     "execution_count": 8,
     "metadata": {},
     "output_type": "execute_result"
    }
   ],
   "source": [
    "mdf = df[['ENGINESIZE','CYLINDERS','FUELCONSUMPTION_CITY','FUELCONSUMPTION_HWY','FUELCONSUMPTION_COMB','CO2EMISSIONS']]\n",
    "mdf.head(9)"
   ]
  },
  {
   "cell_type": "markdown",
   "metadata": {},
   "source": [
    "plot Emission values with respect Engine size"
   ]
  },
  {
   "cell_type": "code",
   "execution_count": 9,
   "metadata": {},
   "outputs": [
    {
     "data": {
      "image/png": "[encoded data removed]",
      "text/plain": [
       "<Figure size 432x288 with 1 Axes>"
      ]
     },
     "metadata": {
      "needs_background": "light"
     },
     "output_type": "display_data"
    }
   ],
   "source": [
    "plt.scatter(mdf.ENGINESIZE, mdf.CO2EMISSIONS, color='blue')\n",
    "plt.xlabel(\"Engine Size\")\n",
    "plt.ylabel(\"Emission\")\n",
    "plt.show()"
   ]
  },
  {
   "cell_type": "markdown",
   "metadata": {},
   "source": [
    "### Create training and testing dataset"
   ]
  },
  {
   "cell_type": "code",
   "execution_count": 10,
   "metadata": {
    "collapsed": true
   },
   "outputs": [],
   "source": [
    "# split dataset into train dataset and test dataset with np.random.rand()\n",
    "msk = np.random.rand(len(df))<0.8\n",
    "train = mdf[msk]\n",
    "test = mdf[~msk]"
   ]
  },
  {
   "cell_type": "markdown",
   "metadata": {},
   "source": [
    "### train data distribution"
   ]
  },
  {
   "cell_type": "code",
   "execution_count": 11,
   "metadata": {},
   "outputs": [
    {
     "data": {
      "image/png": "[encoded data removed]",
      "text/plain": [
       "<Figure size 432x288 with 1 Axes>"
      ]
     },
     "metadata": {
      "needs_background": "light"
     },
     "output_type": "display_data"
    }
   ],
   "source": [
    "plt.scatter(train.ENGINESIZE, train.CO2EMISSIONS, color='blue')\n",
    "plt.xlabel(\"Engine Size\")\n",
    "plt.ylabel(\"Emission\")\n",
    "plt.show()"
   ]
  },
  {
   "cell_type": "markdown",
   "metadata": {},
   "source": [
    "## Multiple Regression Model"
   ]
  },
  {
   "cell_type": "code",
   "execution_count": 13,
   "metadata": {},
   "outputs": [
    {
     "name": "stdout",
     "output_type": "stream",
     "text": [
      "Coefficients:  [[10.17976793  8.21373777  9.24937889]]\n"
     ]
    }
   ],
   "source": [
    "from sklearn import linear_model\n",
    "regr = linear_model.LinearRegression()\n",
    "x = np.asanyarray(train[['ENGINESIZE', 'CYLINDERS', 'FUELCONSUMPTION_COMB']])\n",
    "y = np.asanyarray(train[['CO2EMISSIONS']])\n",
    "regr.fit(x, y)\n",
    "print('Coefficients: ', regr.coef_)"
   ]
  },
  {
   "cell_type": "markdown",
   "metadata": {},
   "source": [
    "### OLS ordinary least squares"
   ]
  },
  {
   "cell_type": "markdown",
   "metadata": {},
   "source": [
    "Ordinary Least Squares (OLS)\n",
    "OLS is a method for estimating the unknown parameters in a linear regression model. OLS chooses the parameters of a linear function of a set of explanatory variables by minimizing the sum of the squares of the differences between the target dependent variable and those predicted by the linear function. In other words, it tries to minimizes the sum of squared errors (SSE) or mean squared error (MSE) between the target variable (y) and our predicted output ($\\hat{y}$) over all samples in the dataset.\n",
    "\n",
    "OLS can find the best parameters using of the following methods:\n",
    "\n",
    "- Solving the model parameters analytically using closed-form equations\n",
    "- Using an optimization algorithm (Gradient Descent, Stochastic Gradient Descent, Newton’s Method, etc.)"
   ]
  },
  {
   "cell_type": "markdown",
   "metadata": {},
   "source": [
    "## Prediction"
   ]
  },
  {
   "cell_type": "code",
   "execution_count": 18,
   "metadata": {},
   "outputs": [
    {
     "name": "stdout",
     "output_type": "stream",
     "text": [
      "Residual sum of squares: 15388.16\n",
      "Variance score: 0.01\n"
     ]
    }
   ],
   "source": [
    "y_hat = regr.predict(test[['ENGINESIZE', 'CYLINDERS', 'FUELCONSUMPTION_COMB']])\n",
    "x = np.asanyarray(test[['ENGINESIZE', 'CYLINDERS', 'FUELCONSUMPTION_COMB']])\n",
    "y = np.asanyarray(test[['CO2EMISSIONS']])\n",
    "print(\"Residual sum of squares: %.2f\" % np.mean((y_hat-y)**2))\n",
    "\n",
    "# Explaind variance score: 1 is perfect prediction\n",
    "print(\"Variance score: %.2f\" % regr.score(x, y))"
   ]
  },
  {
   "cell_type": "markdown",
   "metadata": {},
   "source": [
    "## Practical "
   ]
  },
  {
   "cell_type": "markdown",
   "metadata": {},
   "source": [
    "### build a model"
   ]
  },
  {
   "cell_type": "code",
   "execution_count": 19,
   "metadata": {},
   "outputs": [
    {
     "name": "stdout",
     "output_type": "stream",
     "text": [
      "Coefficints:  [[-0.96665159  0.60542234 -0.24664277]\n",
      " [-0.56297343  0.11822459 -0.28022783]\n",
      " [-1.11721523  0.84112639 -0.24968731]\n",
      " [-0.77713556  0.40171897 -0.2858229 ]\n",
      " [-0.82823908  0.42523232 -0.24846085]\n",
      " [-0.65259684  0.23780669 -0.26607513]\n",
      " [-1.17541552  0.88285525 -0.15304641]\n",
      " [-0.6307362   0.28536557 -0.25150321]\n",
      " [-0.93662672  0.69136126 -0.22220498]\n",
      " [-0.4811079   0.01972339 -0.18423932]\n",
      " [-0.16040578 -0.37906921 -0.2629317 ]\n",
      " [-0.17466292 -0.31103878 -0.2340183 ]\n",
      " [-0.23181602 -0.0975424  -0.28265051]\n",
      " [-0.0836488  -0.33089752 -0.26523908]\n",
      " [-0.0470183  -0.43819598 -0.24365365]\n",
      " [-0.05720097 -0.42495469 -0.21330876]\n",
      " [-0.10738491 -0.3979545  -0.20419372]\n",
      " [-0.0845296  -0.34776425 -0.23798106]\n",
      " [-0.14186229 -0.33682425 -0.15035865]\n",
      " [-0.14123867 -0.4119585  -0.23265929]\n",
      " [-0.30272448 -0.09211369 -0.20096143]\n",
      " [-0.46024617  0.19335354 -0.16823913]\n",
      " [-0.33554517 -0.04467742 -0.11101025]\n",
      " [-0.33918267 -0.05199434 -0.08271846]\n",
      " [-0.08317513 -0.49908015 -0.18815922]\n",
      " [-0.40916735  0.15594533 -0.2319847 ]\n",
      " [ 0.09407197 -0.31108085 -0.36475015]\n",
      " [-0.13869033 -0.30537031 -0.15345467]\n",
      " [-0.44371141  0.20245376 -0.14395264]\n",
      " [-0.13242984 -0.31825351 -0.06666127]\n",
      " [ 0.30727246 -0.94436303 -0.2534614 ]\n",
      " [ 0.34945895 -0.80740778 -0.24738437]\n",
      " [ 0.09119589 -0.60288207 -0.27881947]\n",
      " [ 0.09447724 -0.58376224 -0.23711563]\n",
      " [-0.44276909  0.279155   -0.12860719]\n",
      " [-0.0086462  -0.55367747 -0.20217967]\n",
      " [-0.09911523 -0.21848716 -0.15274662]\n",
      " [ 0.36221606 -0.83121746 -0.20425364]\n",
      " [ 0.05610313 -0.453979   -0.179474  ]\n",
      " [-0.09807555 -0.12715127 -0.27298287]\n",
      " [-0.29968107  0.07373139 -0.10788282]\n",
      " [ 0.20088695 -0.63208484 -0.10745198]\n",
      " [-0.11520061 -0.17370226 -0.11204234]\n",
      " [-0.06327011 -0.23211848 -0.2051173 ]\n",
      " [-0.28113504  0.06057686 -0.10561571]\n",
      " [-0.13286682 -0.10276192 -0.17247012]\n",
      " [ 0.50725938 -0.92645452 -0.20312793]\n",
      " [ 0.53437056 -1.18774433 -0.22188556]\n",
      " [ 0.07758596 -0.48220185 -0.10476597]\n",
      " [ 0.50765129 -1.11120417 -0.18870308]\n",
      " [ 0.00896753 -0.28782152 -0.06048224]\n",
      " [ 0.18116507 -0.80395068 -0.24687693]\n",
      " [ 0.21125073 -0.66479226 -0.12284534]\n",
      " [ 0.48548902 -0.98116895 -0.20080968]\n",
      " [ 0.38303678 -0.81663929 -0.05823434]\n",
      " [ 0.29997693 -0.47347743 -0.31280126]\n",
      " [ 0.29924846 -0.6602369  -0.11935247]\n",
      " [ 0.33650208 -0.7033882  -0.08128383]\n",
      " [ 0.16950476 -0.45751449 -0.15126672]\n",
      " [ 0.45262692 -0.78485763 -0.18081139]\n",
      " [ 0.28921154 -0.65679429 -0.12333388]\n",
      " [ 0.1638217  -0.29672202 -0.20961627]\n",
      " [ 0.31370695 -0.707804   -0.15631576]\n",
      " [ 0.09922185 -0.37310073 -0.11218939]\n",
      " [ 0.38861032 -0.51818145 -0.22084859]\n",
      " [-0.09956161 -0.06829319 -0.05726361]\n",
      " [ 0.24305616 -0.61380344 -0.17066478]\n",
      " [-0.03246281 -0.22072997 -0.05294549]\n",
      " [ 0.59497705 -1.11284826 -0.04781522]\n",
      " [ 0.32561492 -0.59998909 -0.17836222]\n",
      " [ 0.36959051 -0.72402586 -0.08043601]\n",
      " [ 0.01722491 -0.28001874 -0.01471245]\n",
      " [ 0.25945685 -0.36837802 -0.11313149]\n",
      " [ 0.14704989 -0.55810839 -0.22579425]\n",
      " [ 0.34140198 -0.60009388 -0.18309205]\n",
      " [ 0.27326073 -0.404499   -0.12908042]\n",
      " [ 0.15436981 -0.50026662 -0.13432677]\n",
      " [-0.03344294 -0.14190055 -0.07060601]\n",
      " [ 0.31513603 -0.68750286 -0.16934053]\n",
      " [ 0.13589372 -0.47961389 -0.06936078]\n",
      " [ 0.72033043 -1.10200724 -0.22111364]\n",
      " [-0.07523363  0.00374601 -0.16053023]\n",
      " [-0.09756595 -0.03573073 -0.04058529]\n",
      " [ 0.5386833  -1.08592512 -0.10484682]\n",
      " [ 0.4830861  -0.83777451 -0.16851991]\n",
      " [ 0.2248423  -0.36149795 -0.10265552]\n",
      " [ 0.1516349  -0.28491241 -0.09639973]\n",
      " [-0.08671965 -0.37584104 -0.23780956]\n",
      " [-0.18155533  0.10602929 -0.05130313]\n",
      " [ 0.37952401 -0.67213435 -0.02541793]\n",
      " [ 0.84703531 -1.46314864  0.02292666]\n",
      " [ 0.66341044 -0.80990117 -0.09381084]\n",
      " [ 0.35218058 -0.73776737 -0.0444605 ]\n",
      " [ 0.06324656 -0.4249437  -0.11388319]\n",
      " [-0.18467748 -0.05927323 -0.11657797]\n",
      " [ 0.70404365 -1.18189399 -0.16378135]\n",
      " [ 0.60795558 -1.09389445 -0.02909089]\n",
      " [ 0.25956194 -0.51380783 -0.11649332]\n",
      " [-0.13616541 -0.16184373 -0.07635271]\n",
      " [ 0.24835204 -0.69011855 -0.17592457]\n",
      " [-0.21778773  0.05951381  0.01473931]\n",
      " [ 0.74487035 -0.95249271 -0.18004944]\n",
      " [-0.20359143 -0.06456698 -0.17598205]\n",
      " [ 0.17877853 -0.41039044 -0.11393875]\n",
      " [ 0.07958568 -0.36425067  0.05064993]\n",
      " [-0.05922974 -0.27643283 -0.16957565]\n",
      " [ 0.1131997  -0.36823534 -0.17571379]\n",
      " [-0.16633588 -0.13047857 -0.12898642]\n",
      " [ 0.16810279 -0.59879936 -0.15659111]\n",
      " [-0.34266159  0.36974735 -0.05983668]\n",
      " [ 0.39647431 -0.7661813  -0.11709726]\n",
      " [ 0.4665153  -0.88496109 -0.01823449]\n",
      " [ 0.01668597 -0.20306517 -0.11033837]\n",
      " [ 0.41025248 -0.83223704 -0.07370888]\n",
      " [-0.82284021  1.02869602  0.09016675]\n",
      " [ 0.10657678 -0.55849454 -0.21521803]\n",
      " [-0.17186513  0.0068394  -0.05973206]\n",
      " [ 0.10462667 -0.25921642 -0.06599475]\n",
      " [-0.46241691  0.35454435 -0.07274754]\n",
      " [ 0.52670664 -1.02184457 -0.19167016]\n",
      " [ 0.83865589 -1.05918216 -0.19894479]\n",
      " [ 0.42903618 -0.76700053 -0.12454526]\n",
      " [ 0.01549824 -0.24700634 -0.04725455]\n",
      " [-0.40604419  0.23149918 -0.14558835]\n",
      " [ 0.19883626 -0.5570467  -0.07956147]\n",
      " [-0.51466053  0.62464332 -0.02984199]\n",
      " [ 0.03105224 -0.3296417  -0.15521854]\n",
      " [ 0.14921101 -0.23384033 -0.14727978]\n",
      " [-0.20316728 -0.1237186  -0.19591299]\n",
      " [-0.48642434  0.39000348 -0.13315607]\n",
      " [ 0.04973323 -0.39903801 -0.10651466]\n",
      " [-0.17728341  0.16551579  0.13039904]\n",
      " [ 0.48773946 -0.59931616 -0.19366223]\n",
      " [-0.08053541 -0.29004804 -0.18832218]\n",
      " [-0.34714324  0.061825   -0.17218897]\n",
      " [ 0.63347198 -1.22832769 -0.11746323]\n",
      " [ 1.28355902 -1.96642457 -0.22907365]\n",
      " [-0.22728213 -0.06720003 -0.19420495]\n",
      " [-0.06155245 -0.33461071 -0.16315038]\n",
      " [ 0.38182311 -0.90497333 -0.20997391]\n",
      " [ 0.35377828 -0.65027116 -0.13112003]\n",
      " [ 0.65664846 -1.14035191 -0.19309481]\n",
      " [ 0.39514116 -0.70754998 -0.07780691]\n",
      " [ 0.32949937 -0.70844797 -0.18282264]\n",
      " [ 0.26653561 -0.56647141 -0.0874795 ]\n",
      " [ 0.0252842  -0.31129829 -0.00323519]\n",
      " [ 0.33301612 -0.70336612 -0.13745872]\n",
      " [ 0.25095755 -0.70664044 -0.19351659]\n",
      " [ 0.31020037 -0.8140295  -0.17438023]]\n"
     ]
    },
    {
     "name": "stderr",
     "output_type": "stream",
     "text": [
      "/Users/sanamjankurban/anaconda3/envs/ProjectECO/lib/python3.7/site-packages/sklearn/linear_model/logistic.py:433: FutureWarning: Default solver will be changed to 'lbfgs' in 0.22. Specify a solver to silence this warning.\n",
      "  FutureWarning)\n",
      "/Users/sanamjankurban/anaconda3/envs/ProjectECO/lib/python3.7/site-packages/sklearn/utils/validation.py:761: DataConversionWarning: A column-vector y was passed when a 1d array was expected. Please change the shape of y to (n_samples, ), for example using ravel().\n",
      "  y = column_or_1d(y, warn=True)\n",
      "/Users/sanamjankurban/anaconda3/envs/ProjectECO/lib/python3.7/site-packages/sklearn/linear_model/logistic.py:460: FutureWarning: Default multi_class will be changed to 'auto' in 0.22. Specify the multi_class option to silence this warning.\n",
      "  \"this warning.\", FutureWarning)\n"
     ]
    }
   ],
   "source": [
    "from sklearn import linear_model\n",
    "regr = linear_model.LogisticRegression()\n",
    "x = np.asanyarray(train[['FUELCONSUMPTION_CITY', 'FUELCONSUMPTION_HWY', 'FUELCONSUMPTION_COMB']])\n",
    "y = np.asanyarray(train[['CO2EMISSIONS']])\n",
    "regr.fit(x, y)\n",
    "print('Coefficints: ', regr.coef_)"
   ]
  },
  {
   "cell_type": "markdown",
   "metadata": {},
   "source": [
    "### prediction"
   ]
  },
  {
   "cell_type": "code",
   "execution_count": 20,
   "metadata": {},
   "outputs": [
    {
     "name": "stdout",
     "output_type": "stream",
     "text": [
      "Residual sum of squares: 8803.24\n",
      "Variance score: 0.03\n"
     ]
    }
   ],
   "source": [
    "y_hat = regr.predict(test[['FUELCONSUMPTION_CITY', 'FUELCONSUMPTION_HWY', 'FUELCONSUMPTION_COMB']])\n",
    "x = np.asanyarray(test[['FUELCONSUMPTION_CITY', 'FUELCONSUMPTION_HWY', 'FUELCONSUMPTION_COMB']])\n",
    "y = np.asanyarray(test[['CO2EMISSIONS']])\n",
    "print(\"Residual sum of squares: %.2f\" % np.mean((y_hat-y)**2))\n",
    "print(\"Variance score: %.2f\" % regr.score(x, y))"
   ]
  },
  {
   "cell_type": "code",
   "execution_count": null,
   "metadata": {
    "collapsed": true
   },
   "outputs": [],
   "source": []
  }
 ],
 "metadata": {
  "kernelspec": {
   "display_name": "Python 3",
   "language": "python",
   "name": "python3"
  },
  "language_info": {
   "codemirror_mode": {
    "name": "ipython",
    "version": 3
   },
   "file_extension": ".py",
   "mimetype": "text/x-python",
   "name": "python",
   "nbconvert_exporter": "python",
   "pygments_lexer": "ipython3",
   "version": "3.6.8"
  }
 },
 "nbformat": 4,
 "nbformat_minor": 2
}
