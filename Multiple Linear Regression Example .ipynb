{
 "cells": [
  {
   "cell_type": "code",
   "execution_count": 1,
   "metadata": {},
   "outputs": [],
   "source": [
    "import matplotlib.pyplot as plt\n",
    "import pandas as pd\n",
    "import pylab as pl\n",
    "import numpy as np\n",
    "%matplotlib inline"
   ]
  },
  {
   "cell_type": "markdown",
   "metadata": {},
   "source": [
    "## Read Data Source"
   ]
  },
  {
   "cell_type": "code",
   "execution_count": 2,
   "metadata": {},
   "outputs": [
    {
     "data": {
      "text/plain": [
       "['-disbtribution-worldwide-2020-03-22.csv',\n",
       " 'dataset.xlsx',\n",
       " '-disbtribution-worldwide-2020-03-20.csv',\n",
       " '-Investment-Tracker-2019-Fall-FINAL.csv',\n",
       " '.DS_Store',\n",
       " 'nesarc_pds.csv',\n",
       " '-disbtribution-worldwide-2020-03-31.csv',\n",
       " 'TÜRKİYE son veriler.xlsx',\n",
       " 'addhealth_pds.csv',\n",
       " 'FuelConsumptionCo2.csv',\n",
       " 'COVID-19-geographic-disbtribution-worldwide-2020-03-31.xlsx',\n",
       " 'tree_addhealth.csv',\n",
       " 'China-Global-Investment-Tracker-2019-Fall-FINAL.xlsx',\n",
       " 'marscrater_pds.csv',\n",
       " 'covid19-global-forecasting-week-1.zip',\n",
       " 'csvfile.csv',\n",
       " 'covid19-global-forecasting-week-1',\n",
       " 'ool_pds.csv',\n",
       " 'china_gdp.csv',\n",
       " 'dataset.csv',\n",
       " 'gapminder.csv']"
      ]
     },
     "execution_count": 2,
     "metadata": {},
     "output_type": "execute_result"
    }
   ],
   "source": [
    "from pathlib import Path\n",
    "data_dir = Path('/Users/sanamjankurban/Documents/Jupyter_projects/Data Analysis Examples/DataBases')\n",
    "\n",
    "import os\n",
    "os.listdir(data_dir)"
   ]
  },
  {
   "cell_type": "code",
   "execution_count": 3,
   "metadata": {},
   "outputs": [
    {
     "data": {
      "text/html": [
       "<div>\n",
       "<style scoped>\n",
       "    .dataframe tbody tr th:only-of-type {\n",
       "        vertical-align: middle;\n",
       "    }\n",
       "\n",
       "    .dataframe tbody tr th {\n",
       "        vertical-align: top;\n",
       "    }\n",
       "\n",
       "    .dataframe thead th {\n",
       "        text-align: right;\n",
       "    }\n",
       "</style>\n",
       "<table border=\"1\" class=\"dataframe\">\n",
       "  <thead>\n",
       "    <tr style=\"text-align: right;\">\n",
       "      <th></th>\n",
       "      <th>MODELYEAR</th>\n",
       "      <th>MAKE</th>\n",
       "      <th>MODEL</th>\n",
       "      <th>VEHICLECLASS</th>\n",
       "      <th>ENGINESIZE</th>\n",
       "      <th>CYLINDERS</th>\n",
       "      <th>TRANSMISSION</th>\n",
       "      <th>FUELTYPE</th>\n",
       "      <th>FUELCONSUMPTION_CITY</th>\n",
       "      <th>FUELCONSUMPTION_HWY</th>\n",
       "      <th>FUELCONSUMPTION_COMB</th>\n",
       "      <th>FUELCONSUMPTION_COMB_MPG</th>\n",
       "      <th>CO2EMISSIONS</th>\n",
       "    </tr>\n",
       "  </thead>\n",
       "  <tbody>\n",
       "    <tr>\n",
       "      <th>0</th>\n",
       "      <td>2014</td>\n",
       "      <td>ACURA</td>\n",
       "      <td>ILX</td>\n",
       "      <td>COMPACT</td>\n",
       "      <td>2.0</td>\n",
       "      <td>4</td>\n",
       "      <td>AS5</td>\n",
       "      <td>Z</td>\n",
       "      <td>9.9</td>\n",
       "      <td>6.7</td>\n",
       "      <td>8.5</td>\n",
       "      <td>33</td>\n",
       "      <td>196</td>\n",
       "    </tr>\n",
       "    <tr>\n",
       "      <th>1</th>\n",
       "      <td>2014</td>\n",
       "      <td>ACURA</td>\n",
       "      <td>ILX</td>\n",
       "      <td>COMPACT</td>\n",
       "      <td>2.4</td>\n",
       "      <td>4</td>\n",
       "      <td>M6</td>\n",
       "      <td>Z</td>\n",
       "      <td>11.2</td>\n",
       "      <td>7.7</td>\n",
       "      <td>9.6</td>\n",
       "      <td>29</td>\n",
       "      <td>221</td>\n",
       "    </tr>\n",
       "    <tr>\n",
       "      <th>2</th>\n",
       "      <td>2014</td>\n",
       "      <td>ACURA</td>\n",
       "      <td>ILX HYBRID</td>\n",
       "      <td>COMPACT</td>\n",
       "      <td>1.5</td>\n",
       "      <td>4</td>\n",
       "      <td>AV7</td>\n",
       "      <td>Z</td>\n",
       "      <td>6.0</td>\n",
       "      <td>5.8</td>\n",
       "      <td>5.9</td>\n",
       "      <td>48</td>\n",
       "      <td>136</td>\n",
       "    </tr>\n",
       "    <tr>\n",
       "      <th>3</th>\n",
       "      <td>2014</td>\n",
       "      <td>ACURA</td>\n",
       "      <td>MDX 4WD</td>\n",
       "      <td>SUV - SMALL</td>\n",
       "      <td>3.5</td>\n",
       "      <td>6</td>\n",
       "      <td>AS6</td>\n",
       "      <td>Z</td>\n",
       "      <td>12.7</td>\n",
       "      <td>9.1</td>\n",
       "      <td>11.1</td>\n",
       "      <td>25</td>\n",
       "      <td>255</td>\n",
       "    </tr>\n",
       "    <tr>\n",
       "      <th>4</th>\n",
       "      <td>2014</td>\n",
       "      <td>ACURA</td>\n",
       "      <td>RDX AWD</td>\n",
       "      <td>SUV - SMALL</td>\n",
       "      <td>3.5</td>\n",
       "      <td>6</td>\n",
       "      <td>AS6</td>\n",
       "      <td>Z</td>\n",
       "      <td>12.1</td>\n",
       "      <td>8.7</td>\n",
       "      <td>10.6</td>\n",
       "      <td>27</td>\n",
       "      <td>244</td>\n",
       "    </tr>\n",
       "  </tbody>\n",
       "</table>\n",
       "</div>"
      ],
      "text/plain": [
       "   MODELYEAR   MAKE       MODEL VEHICLECLASS  ENGINESIZE  CYLINDERS  \\\n",
       "0       2014  ACURA         ILX      COMPACT         2.0          4   \n",
       "1       2014  ACURA         ILX      COMPACT         2.4          4   \n",
       "2       2014  ACURA  ILX HYBRID      COMPACT         1.5          4   \n",
       "3       2014  ACURA     MDX 4WD  SUV - SMALL         3.5          6   \n",
       "4       2014  ACURA     RDX AWD  SUV - SMALL         3.5          6   \n",
       "\n",
       "  TRANSMISSION FUELTYPE  FUELCONSUMPTION_CITY  FUELCONSUMPTION_HWY  \\\n",
       "0          AS5        Z                   9.9                  6.7   \n",
       "1           M6        Z                  11.2                  7.7   \n",
       "2          AV7        Z                   6.0                  5.8   \n",
       "3          AS6        Z                  12.7                  9.1   \n",
       "4          AS6        Z                  12.1                  8.7   \n",
       "\n",
       "   FUELCONSUMPTION_COMB  FUELCONSUMPTION_COMB_MPG  CO2EMISSIONS  \n",
       "0                   8.5                        33           196  \n",
       "1                   9.6                        29           221  \n",
       "2                   5.9                        48           136  \n",
       "3                  11.1                        25           255  \n",
       "4                  10.6                        27           244  "
      ]
     },
     "execution_count": 3,
     "metadata": {},
     "output_type": "execute_result"
    }
   ],
   "source": [
    "df = pd.read_csv(data_dir/\"FuelConsumptionCo2.csv\")\n",
    "\n",
    "# look at database\n",
    "df.head()"
   ]
  },
  {
   "cell_type": "code",
   "execution_count": 4,
   "metadata": {},
   "outputs": [
    {
     "data": {
      "text/html": [
       "<div>\n",
       "<style scoped>\n",
       "    .dataframe tbody tr th:only-of-type {\n",
       "        vertical-align: middle;\n",
       "    }\n",
       "\n",
       "    .dataframe tbody tr th {\n",
       "        vertical-align: top;\n",
       "    }\n",
       "\n",
       "    .dataframe thead th {\n",
       "        text-align: right;\n",
       "    }\n",
       "</style>\n",
       "<table border=\"1\" class=\"dataframe\">\n",
       "  <thead>\n",
       "    <tr style=\"text-align: right;\">\n",
       "      <th></th>\n",
       "      <th>ENGINESIZE</th>\n",
       "      <th>CYLINDERS</th>\n",
       "      <th>FUELCONSUMPTION_CITY</th>\n",
       "      <th>FUELCONSUMPTION_HWY</th>\n",
       "      <th>FUELCONSUMPTION_COMB</th>\n",
       "      <th>CO2EMISSIONS</th>\n",
       "    </tr>\n",
       "  </thead>\n",
       "  <tbody>\n",
       "    <tr>\n",
       "      <th>0</th>\n",
       "      <td>2.0</td>\n",
       "      <td>4</td>\n",
       "      <td>9.9</td>\n",
       "      <td>6.7</td>\n",
       "      <td>8.5</td>\n",
       "      <td>196</td>\n",
       "    </tr>\n",
       "    <tr>\n",
       "      <th>1</th>\n",
       "      <td>2.4</td>\n",
       "      <td>4</td>\n",
       "      <td>11.2</td>\n",
       "      <td>7.7</td>\n",
       "      <td>9.6</td>\n",
       "      <td>221</td>\n",
       "    </tr>\n",
       "    <tr>\n",
       "      <th>2</th>\n",
       "      <td>1.5</td>\n",
       "      <td>4</td>\n",
       "      <td>6.0</td>\n",
       "      <td>5.8</td>\n",
       "      <td>5.9</td>\n",
       "      <td>136</td>\n",
       "    </tr>\n",
       "    <tr>\n",
       "      <th>3</th>\n",
       "      <td>3.5</td>\n",
       "      <td>6</td>\n",
       "      <td>12.7</td>\n",
       "      <td>9.1</td>\n",
       "      <td>11.1</td>\n",
       "      <td>255</td>\n",
       "    </tr>\n",
       "    <tr>\n",
       "      <th>4</th>\n",
       "      <td>3.5</td>\n",
       "      <td>6</td>\n",
       "      <td>12.1</td>\n",
       "      <td>8.7</td>\n",
       "      <td>10.6</td>\n",
       "      <td>244</td>\n",
       "    </tr>\n",
       "    <tr>\n",
       "      <th>5</th>\n",
       "      <td>3.5</td>\n",
       "      <td>6</td>\n",
       "      <td>11.9</td>\n",
       "      <td>7.7</td>\n",
       "      <td>10.0</td>\n",
       "      <td>230</td>\n",
       "    </tr>\n",
       "    <tr>\n",
       "      <th>6</th>\n",
       "      <td>3.5</td>\n",
       "      <td>6</td>\n",
       "      <td>11.8</td>\n",
       "      <td>8.1</td>\n",
       "      <td>10.1</td>\n",
       "      <td>232</td>\n",
       "    </tr>\n",
       "    <tr>\n",
       "      <th>7</th>\n",
       "      <td>3.7</td>\n",
       "      <td>6</td>\n",
       "      <td>12.8</td>\n",
       "      <td>9.0</td>\n",
       "      <td>11.1</td>\n",
       "      <td>255</td>\n",
       "    </tr>\n",
       "    <tr>\n",
       "      <th>8</th>\n",
       "      <td>3.7</td>\n",
       "      <td>6</td>\n",
       "      <td>13.4</td>\n",
       "      <td>9.5</td>\n",
       "      <td>11.6</td>\n",
       "      <td>267</td>\n",
       "    </tr>\n",
       "  </tbody>\n",
       "</table>\n",
       "</div>"
      ],
      "text/plain": [
       "   ENGINESIZE  CYLINDERS  FUELCONSUMPTION_CITY  FUELCONSUMPTION_HWY  \\\n",
       "0         2.0          4                   9.9                  6.7   \n",
       "1         2.4          4                  11.2                  7.7   \n",
       "2         1.5          4                   6.0                  5.8   \n",
       "3         3.5          6                  12.7                  9.1   \n",
       "4         3.5          6                  12.1                  8.7   \n",
       "5         3.5          6                  11.9                  7.7   \n",
       "6         3.5          6                  11.8                  8.1   \n",
       "7         3.7          6                  12.8                  9.0   \n",
       "8         3.7          6                  13.4                  9.5   \n",
       "\n",
       "   FUELCONSUMPTION_COMB  CO2EMISSIONS  \n",
       "0                   8.5           196  \n",
       "1                   9.6           221  \n",
       "2                   5.9           136  \n",
       "3                  11.1           255  \n",
       "4                  10.6           244  \n",
       "5                  10.0           230  \n",
       "6                  10.1           232  \n",
       "7                  11.1           255  \n",
       "8                  11.6           267  "
      ]
     },
     "execution_count": 4,
     "metadata": {},
     "output_type": "execute_result"
    }
   ],
   "source": [
    "mdf = df[['ENGINESIZE','CYLINDERS','FUELCONSUMPTION_CITY','FUELCONSUMPTION_HWY','FUELCONSUMPTION_COMB','CO2EMISSIONS']]\n",
    "mdf.head(9)"
   ]
  },
  {
   "cell_type": "markdown",
   "metadata": {},
   "source": [
    "plot Emission values with respect Engine size"
   ]
  },
  {
   "cell_type": "code",
   "execution_count": 5,
   "metadata": {},
   "outputs": [
    {
     "data": {
      "image/png": "[encoded data removed]",
      "text/plain": [
       "<Figure size 432x288 with 1 Axes>"
      ]
     },
     "metadata": {
      "needs_background": "light"
     },
     "output_type": "display_data"
    }
   ],
   "source": [
    "plt.scatter(mdf.ENGINESIZE, mdf.CO2EMISSIONS, color='blue')\n",
    "plt.xlabel(\"Engine Size\")\n",
    "plt.ylabel(\"Emission\")\n",
    "plt.show()"
   ]
  },
  {
   "cell_type": "markdown",
   "metadata": {},
   "source": [
    "### Create training and testing dataset"
   ]
  },
  {
   "cell_type": "code",
   "execution_count": 6,
   "metadata": {},
   "outputs": [],
   "source": [
    "# split dataset into train dataset and test dataset with np.random.rand()\n",
    "msk = np.random.rand(len(df))<0.8\n",
    "train = mdf[msk]\n",
    "test = mdf[~msk]"
   ]
  },
  {
   "cell_type": "markdown",
   "metadata": {},
   "source": [
    "### train data distribution"
   ]
  },
  {
   "cell_type": "code",
   "execution_count": 7,
   "metadata": {},
   "outputs": [
    {
     "data": {
      "image/png": "[encoded data removed]",
      "text/plain": [
       "<Figure size 432x288 with 1 Axes>"
      ]
     },
     "metadata": {
      "needs_background": "light"
     },
     "output_type": "display_data"
    }
   ],
   "source": [
    "plt.scatter(train.ENGINESIZE, train.CO2EMISSIONS, color='blue')\n",
    "plt.xlabel(\"Engine Size\")\n",
    "plt.ylabel(\"Emission\")\n",
    "plt.show()"
   ]
  },
  {
   "cell_type": "markdown",
   "metadata": {},
   "source": [
    "## Multiple Regression Model"
   ]
  },
  {
   "cell_type": "code",
   "execution_count": 8,
   "metadata": {},
   "outputs": [
    {
     "name": "stdout",
     "output_type": "stream",
     "text": [
      "Coefficients:  [[9.86355184 8.0870763  9.54919849]]\n"
     ]
    }
   ],
   "source": [
    "from sklearn import linear_model\n",
    "regr = linear_model.LinearRegression()\n",
    "x = np.asanyarray(train[['ENGINESIZE', 'CYLINDERS', 'FUELCONSUMPTION_COMB']])\n",
    "y = np.asanyarray(train[['CO2EMISSIONS']])\n",
    "regr.fit(x, y)\n",
    "print('Coefficients: ', regr.coef_)"
   ]
  },
  {
   "cell_type": "markdown",
   "metadata": {},
   "source": [
    "### OLS ordinary least squares"
   ]
  },
  {
   "cell_type": "markdown",
   "metadata": {},
   "source": [
    "Ordinary Least Squares (OLS)\n",
    "OLS is a method for estimating the unknown parameters in a linear regression model. OLS chooses the parameters of a linear function of a set of explanatory variables by minimizing the sum of the squares of the differences between the target dependent variable and those predicted by the linear function. In other words, it tries to minimizes the sum of squared errors (SSE) or mean squared error (MSE) between the target variable (y) and our predicted output ($\\hat{y}$) over all samples in the dataset.\n",
    "\n",
    "OLS can find the best parameters using of the following methods:\n",
    "\n",
    "- Solving the model parameters analytically using closed-form equations\n",
    "- Using an optimization algorithm (Gradient Descent, Stochastic Gradient Descent, Newton’s Method, etc.)"
   ]
  },
  {
   "cell_type": "markdown",
   "metadata": {},
   "source": [
    "## Prediction"
   ]
  },
  {
   "cell_type": "code",
   "execution_count": 9,
   "metadata": {},
   "outputs": [
    {
     "name": "stdout",
     "output_type": "stream",
     "text": [
      "Residual sum of squares: 536.28\n",
      "Variance score: 0.87\n"
     ]
    }
   ],
   "source": [
    "y_hat = regr.predict(test[['ENGINESIZE', 'CYLINDERS', 'FUELCONSUMPTION_COMB']])\n",
    "x = np.asanyarray(test[['ENGINESIZE', 'CYLINDERS', 'FUELCONSUMPTION_COMB']])\n",
    "y = np.asanyarray(test[['CO2EMISSIONS']])\n",
    "print(\"Residual sum of squares: %.2f\" % np.mean((y_hat-y)**2))\n",
    "\n",
    "# Explaind variance score: 1 is perfect prediction\n",
    "print(\"Variance score: %.2f\" % regr.score(x, y))"
   ]
  },
  {
   "cell_type": "markdown",
   "metadata": {},
   "source": [
    "## Practical "
   ]
  },
  {
   "cell_type": "markdown",
   "metadata": {},
   "source": [
    "### build a model"
   ]
  },
  {
   "cell_type": "code",
   "execution_count": 10,
   "metadata": {},
   "outputs": [
    {
     "name": "stdout",
     "output_type": "stream",
     "text": [
      "Coefficints:  [[-0.72588697  0.30875156 -0.29671297]\n",
      " [-0.7141618   0.26330001 -0.26580881]\n",
      " [-1.08267276  0.79256882 -0.24767217]\n",
      " [-0.76314264  0.38368215 -0.2838539 ]\n",
      " [-0.81282017  0.40599028 -0.24720984]\n",
      " [-0.64195569  0.22442597 -0.26408235]\n",
      " [-1.36183486  1.1150428  -0.17487978]\n",
      " [-0.61503696  0.26294882 -0.2494272 ]\n",
      " [-0.6687558   0.32709848 -0.24009235]\n",
      " [-0.49436592  0.03526305 -0.15365026]\n",
      " [-0.16029911 -0.37798694 -0.26104369]\n",
      " [-0.25526155 -0.22212719 -0.27809601]\n",
      " [-0.29200917 -0.0392006  -0.27200203]\n",
      " [-0.04191188 -0.37396558 -0.27050929]\n",
      " [-0.04751926 -0.43702536 -0.24209991]\n",
      " [-0.14101033 -0.40894717 -0.17768104]\n",
      " [-0.06010326 -0.41104061 -0.14681785]\n",
      " [-0.08359968 -0.35154192 -0.23619598]\n",
      " [-0.01266323 -0.53076256 -0.16695835]\n",
      " [-0.2788156  -0.11110114 -0.14742405]\n",
      " [-0.36437046 -0.01916124 -0.23000881]\n",
      " [-0.4359221   0.1484806  -0.16600232]\n",
      " [-0.22126164 -0.18588545 -0.13940284]\n",
      " [-0.39965033 -0.05063379 -0.01952004]\n",
      " [-0.1505034  -0.42385761 -0.23138293]\n",
      " [-0.34131644  0.10685995 -0.23692473]\n",
      " [ 0.07524151 -0.31109504 -0.35783849]\n",
      " [-0.03797103 -0.49991282 -0.11122619]\n",
      " [-0.60856342  0.43055482 -0.12236569]\n",
      " [-0.45910744  0.11039873 -0.03247715]\n",
      " [ 0.30353158 -0.9386005  -0.25190497]\n",
      " [ 0.46635185 -0.97640658 -0.25310828]\n",
      " [ 0.0885159  -0.59929418 -0.27703378]\n",
      " [ 0.09329977 -0.58181561 -0.23574941]\n",
      " [-0.29960271  0.21429858 -0.2529817 ]\n",
      " [-0.01067544 -0.55116314 -0.20037112]\n",
      " [-0.02670557 -0.20571482 -0.25113187]\n",
      " [ 0.04612187 -0.42419103 -0.16144157]\n",
      " [ 0.06098941 -0.48519818 -0.12943195]\n",
      " [ 0.00860443 -0.33485972 -0.25549254]\n",
      " [-0.17721347 -0.14119469 -0.07433937]\n",
      " [ 0.25185037 -0.78676283 -0.0499644 ]\n",
      " [ 0.09403675 -0.48563697 -0.13370231]\n",
      " [-0.00842852 -0.51433255 -0.27954609]\n",
      " [-0.12639797 -0.10717634 -0.17853922]\n",
      " [-0.21576078  0.04906006 -0.14569809]\n",
      " [-0.2178464  -0.02213506 -0.14108396]\n",
      " [ 0.67126781 -1.24417214 -0.18202164]\n",
      " [ 0.93388827 -1.66593135 -0.19621798]\n",
      " [ 0.00609347 -0.33827641 -0.13644222]\n",
      " [ 0.35421153 -1.00989041 -0.20742027]\n",
      " [-0.00556258 -0.31007876 -0.04754521]\n",
      " [ 0.17865984 -0.79934789 -0.24532044]\n",
      " [ 0.22270857 -0.62576506 -0.08192017]\n",
      " [ 0.35945942 -0.77572319 -0.05318582]\n",
      " [ 0.28353503 -0.47162121 -0.28367194]\n",
      " [ 0.13775058 -0.39684163 -0.17695314]\n",
      " [ 0.2824168  -0.66755668 -0.07371777]\n",
      " [ 0.10261818 -0.48639333 -0.13402485]\n",
      " [ 0.39302808 -0.7296219  -0.16110281]\n",
      " [ 0.16482842 -0.4646771  -0.08984971]\n",
      " [ 0.23359347 -0.37981318 -0.22866331]\n",
      " [ 0.45388655 -0.89529881 -0.15201463]\n",
      " [ 0.20189844 -0.5797454  -0.15726132]\n",
      " [ 0.38156957 -0.54704645 -0.24991114]\n",
      " [-0.03227118 -0.15007321 -0.1006648 ]\n",
      " [ 0.20065962 -0.64772991 -0.23263867]\n",
      " [-0.17093193  0.03783749 -0.06520154]\n",
      " [-0.28884068 -0.0293362  -0.1785413 ]\n",
      " [ 0.43868279 -0.89327141 -0.0382973 ]\n",
      " [ 0.24451151 -0.56571134 -0.20248565]\n",
      " [ 0.19701775 -0.44521821 -0.08063264]\n",
      " [ 0.24927027 -0.61580366 -0.05635063]\n",
      " [ 0.30764797 -0.3613395  -0.1525189 ]\n",
      " [ 0.14808149 -0.559859   -0.22505055]\n",
      " [ 0.13814322 -0.28737431 -0.11885076]\n",
      " [ 0.21574386 -0.30427296 -0.11338364]\n",
      " [ 0.16227177 -0.51153201 -0.13422514]\n",
      " [-0.04096806 -0.12598362 -0.04240569]\n",
      " [ 0.32227328 -0.69687955 -0.16930911]\n",
      " [ 0.1490221  -0.50969455 -0.03437208]\n",
      " [ 0.63674439 -1.04138585 -0.21262999]\n",
      " [ 0.09926362 -0.34552498 -0.18430975]\n",
      " [-0.26249253  0.13329718 -0.00343454]\n",
      " [ 0.33063521 -0.87727128 -0.17035049]\n",
      " [ 0.41997634 -0.80518791 -0.1461939 ]\n",
      " [ 0.05781926 -0.15008058 -0.12471799]\n",
      " [ 0.42306248 -0.64102088 -0.21210349]\n",
      " [-0.08650877 -0.37599101 -0.23624886]\n",
      " [-0.03854406 -0.15056562 -0.0848614 ]\n",
      " [ 0.40332235 -0.69759617 -0.03166241]\n",
      " [ 0.69142697 -1.22229793  0.0379282 ]\n",
      " [ 0.6524533  -0.80449815 -0.08682811]\n",
      " [ 0.4257238  -0.79969826 -0.036484  ]\n",
      " [ 0.09455643 -0.49893115 -0.16829972]\n",
      " [ 0.1826528  -0.41631675 -0.05999888]\n",
      " [ 0.63902472 -1.13481209 -0.16255073]\n",
      " [ 0.64115435 -1.17879692 -0.05341997]\n",
      " [-0.02571876 -0.08649326 -0.03872717]\n",
      " [-0.04922574 -0.21868054 -0.02288825]\n",
      " [ 0.25119402 -0.6940493  -0.17530428]\n",
      " [-0.24070183  0.12019913  0.05603713]\n",
      " [ 0.72441555 -0.99483298 -0.16133377]\n",
      " [-0.19521663 -0.07757288 -0.17535544]\n",
      " [ 0.22651083 -0.418713   -0.08917247]\n",
      " [ 0.15194191 -0.47307259  0.01790448]\n",
      " [ 0.14484618 -0.38145541 -0.11195526]\n",
      " [ 0.1240032  -0.3842644  -0.17581515]\n",
      " [-0.10683185 -0.15020644 -0.0935889 ]\n",
      " [ 0.53003843 -1.03458335 -0.13204738]\n",
      " [-0.05464985  0.00254936 -0.0631079 ]\n",
      " [ 0.40870881 -0.78138032 -0.11824273]\n",
      " [ 0.40009437 -0.81177739  0.00510073]\n",
      " [-0.10419529  0.0605523  -0.08751287]\n",
      " [ 0.42106671 -0.84559896 -0.07432002]\n",
      " [-0.16746359 -0.19877814 -0.197757  ]\n",
      " [-0.75122045  0.93900522  0.08701846]\n",
      " [ 0.05071223 -0.49152009 -0.20466761]\n",
      " [-0.15077325 -0.02402089 -0.06055099]\n",
      " [-0.00990543 -0.07641625 -0.07669066]\n",
      " [ 0.53137371 -1.02685628 -0.19155171]\n",
      " [ 0.67708625 -0.8812127  -0.19583422]\n",
      " [ 0.44282776 -0.7844647  -0.12563774]\n",
      " [ 0.24253472 -0.52048284 -0.04404892]\n",
      " [-0.38793777  0.20395898 -0.14539808]\n",
      " [ 0.21104029 -0.57347435 -0.08031509]\n",
      " [-0.37402377  0.33404561 -0.07293688]\n",
      " [ 0.03900489 -0.34179024 -0.15492934]\n",
      " [-0.01515273 -0.27436079 -0.14435587]\n",
      " [-0.0804652   0.0453321  -0.1023731 ]\n",
      " [-0.25299895 -0.06557536 -0.18529798]\n",
      " [ 0.0578673  -0.41117647 -0.10631638]\n",
      " [-0.29340205  0.26810459  0.14619813]\n",
      " [ 0.02816266 -0.21091465 -0.14431574]\n",
      " [-0.07745844 -0.29498216 -0.18731614]\n",
      " [-0.33694965  0.04626938 -0.1713553 ]\n",
      " [ 0.38453101 -0.95882573 -0.17716278]\n",
      " [ 1.26087989 -1.93395739 -0.2286903 ]\n",
      " [-0.22026919 -0.0781183  -0.19331926]\n",
      " [ 0.38267943 -0.90530312 -0.20909351]\n",
      " [ 0.01923787 -0.38891048 -0.20666748]\n",
      " [ 0.3679369  -0.66867565 -0.13199679]\n",
      " [ 0.66261236 -1.14653019 -0.19336473]\n",
      " [ 0.30339701 -0.71736798 -0.14602273]\n",
      " [ 0.46504106 -0.71319623 -0.15145024]\n",
      " [ 0.14952036 -0.48508494 -0.11504727]\n",
      " [-0.40953236  0.12698501 -0.13058469]\n",
      " [ 0.67432781 -1.13815451 -0.20291329]\n",
      " [ 0.34221119 -0.71526769 -0.13771031]\n",
      " [ 0.4132962  -0.79569559 -0.15460804]\n",
      " [-0.17053444 -0.14899265 -0.12460948]]\n"
     ]
    },
    {
     "name": "stderr",
     "output_type": "stream",
     "text": [
      "/Users/sanamjankurban/anaconda3/envs/ProjectECO/lib/python3.7/site-packages/sklearn/linear_model/logistic.py:433: FutureWarning: Default solver will be changed to 'lbfgs' in 0.22. Specify a solver to silence this warning.\n",
      "  FutureWarning)\n",
      "/Users/sanamjankurban/anaconda3/envs/ProjectECO/lib/python3.7/site-packages/sklearn/utils/validation.py:761: DataConversionWarning: A column-vector y was passed when a 1d array was expected. Please change the shape of y to (n_samples, ), for example using ravel().\n",
      "  y = column_or_1d(y, warn=True)\n",
      "/Users/sanamjankurban/anaconda3/envs/ProjectECO/lib/python3.7/site-packages/sklearn/linear_model/logistic.py:460: FutureWarning: Default multi_class will be changed to 'auto' in 0.22. Specify the multi_class option to silence this warning.\n",
      "  \"this warning.\", FutureWarning)\n"
     ]
    }
   ],
   "source": [
    "from sklearn import linear_model\n",
    "regr = linear_model.LogisticRegression()\n",
    "x = np.asanyarray(train[['FUELCONSUMPTION_CITY', 'FUELCONSUMPTION_HWY', 'FUELCONSUMPTION_COMB']])\n",
    "y = np.asanyarray(train[['CO2EMISSIONS']])\n",
    "regr.fit(x, y)\n",
    "print('Coefficints: ', regr.coef_)"
   ]
  },
  {
   "cell_type": "markdown",
   "metadata": {},
   "source": [
    "### prediction"
   ]
  },
  {
   "cell_type": "code",
   "execution_count": 11,
   "metadata": {},
   "outputs": [
    {
     "name": "stdout",
     "output_type": "stream",
     "text": [
      "Residual sum of squares: 7726.01\n",
      "Variance score: 0.05\n"
     ]
    }
   ],
   "source": [
    "y_hat = regr.predict(test[['FUELCONSUMPTION_CITY', 'FUELCONSUMPTION_HWY', 'FUELCONSUMPTION_COMB']])\n",
    "x = np.asanyarray(test[['FUELCONSUMPTION_CITY', 'FUELCONSUMPTION_HWY', 'FUELCONSUMPTION_COMB']])\n",
    "y = np.asanyarray(test[['CO2EMISSIONS']])\n",
    "print(\"Residual sum of squares: %.2f\" % np.mean((y_hat-y)**2))\n",
    "print(\"Variance score: %.2f\" % regr.score(x, y))"
   ]
  },
  {
   "cell_type": "code",
   "execution_count": null,
   "metadata": {
    "collapsed": true
   },
   "outputs": [],
   "source": []
  }
 ],
 "metadata": {
  "kernelspec": {
   "display_name": "Python 3",
   "language": "python",
   "name": "python3"
  },
  "language_info": {
   "codemirror_mode": {
    "name": "ipython",
    "version": 3
   },
   "file_extension": ".py",
   "mimetype": "text/x-python",
   "name": "python",
   "nbconvert_exporter": "python",
   "pygments_lexer": "ipython3",
   "version": "3.7.3"
  }
 },
 "nbformat": 4,
 "nbformat_minor": 2
}
